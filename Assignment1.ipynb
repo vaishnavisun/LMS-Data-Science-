{
 "cells": [
  {
   "cell_type": "code",
   "execution_count": 1,
   "id": "d7831acf-fb47-4747-b022-d2e990976826",
   "metadata": {},
   "outputs": [
    {
     "name": "stdout",
     "output_type": "stream",
     "text": [
      "Lower Triangular Pattern:\n",
      "*\n",
      "**\n",
      "***\n",
      "****\n",
      "*****\n",
      "\n",
      "Upper Triangular Pattern:\n",
      "*****\n",
      " ****\n",
      "  ***\n",
      "   **\n",
      "    *\n",
      "\n",
      "Pyramid Pattern:\n",
      "    *\n",
      "   ***\n",
      "  *****\n",
      " *******\n",
      "*********\n",
      "\n"
     ]
    }
   ],
   "source": [
    "def lower_triangle(n):\n",
    "    print(\"Lower Triangular Pattern:\")\n",
    "    for i in range(1, n + 1):\n",
    "        print(\"*\" * i)\n",
    "    print()\n",
    "\n",
    "def upper_triangle(n):\n",
    "    print(\"Upper Triangular Pattern:\")\n",
    "    for i in range(n, 0, -1):\n",
    "        spaces = n - i\n",
    "        print(\" \" * spaces + \"*\" * i)\n",
    "    print()\n",
    "\n",
    "def print_pyramid(n):\n",
    "    print(\"Pyramid Pattern:\")\n",
    "    for i in range(1, n + 1):\n",
    "        spaces = n - i\n",
    "        stars = 2 * i - 1\n",
    "        print(\" \" * spaces + \"*\" * stars)\n",
    "    print()\n",
    "\n",
    "#No. of rows\n",
    "rows = 5\n",
    "\n",
    "lower_triangle(rows)\n",
    "upper_triangle(rows)\n",
    "print_pyramid(rows)"
   ]
  },
  {
   "cell_type": "code",
   "execution_count": null,
   "id": "e1ae08e3-6d95-46b0-8b53-ebcb50b6d95b",
   "metadata": {},
   "outputs": [],
   "source": []
  }
 ],
 "metadata": {
  "kernelspec": {
   "display_name": "Python 3 (ipykernel)",
   "language": "python",
   "name": "python3"
  },
  "language_info": {
   "codemirror_mode": {
    "name": "ipython",
    "version": 3
   },
   "file_extension": ".py",
   "mimetype": "text/x-python",
   "name": "python",
   "nbconvert_exporter": "python",
   "pygments_lexer": "ipython3",
   "version": "3.12.4"
  }
 },
 "nbformat": 4,
 "nbformat_minor": 5
}
